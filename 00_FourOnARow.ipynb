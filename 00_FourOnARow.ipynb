{
  "cells": [
    {
      "cell_type": "markdown",
      "metadata": {
        "id": "view-in-github",
        "colab_type": "text"
      },
      "source": [
        "<a href=\"https://colab.research.google.com/github/JLoodts/4-on-a-row/blob/Generating-data-for-neural-net-training/00_FourOnARow.ipynb\" target=\"_parent\"><img src=\"https://colab.research.google.com/assets/colab-badge.svg\" alt=\"Open In Colab\"/></a>"
      ]
    },
    {
      "cell_type": "markdown",
      "metadata": {
        "id": "UQri5y1CD311"
      },
      "source": [
        "## Is it a zoo or a wild animal?"
      ]
    },
    {
      "cell_type": "markdown",
      "source": [
        "Based on 'Is it a bird.' from https://github.com/fastai/course22/tree/master\n"
      ],
      "metadata": {
        "id": "pRJveEhh51Sm"
      }
    },
    {
      "cell_type": "markdown",
      "metadata": {
        "id": "N0z2fVrQD317"
      },
      "source": [
        "I wanted to find a really though challenge for the neural net. The question whether an image of an animal is taken in the zoo or in the wild seemed a really though one to me. In this notebook we will create a neural network that is as good as possible in predicting this. This will take only a few minutes, using entirely free resources!\n",
        "\n",
        "The basic steps we'll take are:\n",
        "\n",
        "1. Use DuckDuckGo to search for images of \"wild animal photos\"\n",
        "1. Use DuckDuckGo to search for images of \"zoo animal photos\"\n",
        "1. Fine-tune a pretrained neural network to recognise these two groups\n",
        "1. Try running this model on a picture of a zoo animal and see if it works."
      ]
    },
    {
      "cell_type": "markdown",
      "metadata": {
        "id": "odFZ48S8D318"
      },
      "source": [
        "## Step 1: Download images of the categories"
      ]
    },
    {
      "cell_type": "markdown",
      "source": [
        "In order to easily preview the images and clean the datasets we story everything in our Google Drive."
      ],
      "metadata": {
        "id": "K0dTfw_WQ_mJ"
      }
    },
    {
      "cell_type": "code",
      "source": [
        "from google.colab import drive\n",
        "drive.mount('/content/drive')"
      ],
      "metadata": {
        "colab": {
          "base_uri": "https://localhost:8080/"
        },
        "id": "7OOB1eRcKJoj",
        "outputId": "0ed3b5ca-6a7d-4c38-bc18-36ea9c82ecc3"
      },
      "execution_count": 1,
      "outputs": [
        {
          "output_type": "stream",
          "name": "stdout",
          "text": [
            "Mounted at /content/drive\n"
          ]
        }
      ]
    },
    {
      "cell_type": "code",
      "execution_count": null,
      "metadata": {
        "colab": {
          "base_uri": "https://localhost:8080/"
        },
        "id": "1kxTTh2hD318",
        "outputId": "8a5a591b-aa32-4bd2-ddfd-b65e396d3105"
      },
      "outputs": [
        {
          "output_type": "stream",
          "name": "stdout",
          "text": [
            "\u001b[2K     \u001b[90m━━━━━━━━━━━━━━━━━━━━━━━━━━━━━━━━━━━━━━━━\u001b[0m \u001b[32m719.8/719.8 kB\u001b[0m \u001b[31m10.2 MB/s\u001b[0m eta \u001b[36m0:00:00\u001b[0m\n",
            "\u001b[2K     \u001b[90m━━━━━━━━━━━━━━━━━━━━━━━━━━━━━━━━━━━━━━━━\u001b[0m \u001b[32m510.5/510.5 kB\u001b[0m \u001b[31m15.9 MB/s\u001b[0m eta \u001b[36m0:00:00\u001b[0m\n",
            "\u001b[2K     \u001b[90m━━━━━━━━━━━━━━━━━━━━━━━━━━━━━━━━━━━━━━━━\u001b[0m \u001b[32m116.3/116.3 kB\u001b[0m \u001b[31m17.1 MB/s\u001b[0m eta \u001b[36m0:00:00\u001b[0m\n",
            "\u001b[2K     \u001b[90m━━━━━━━━━━━━━━━━━━━━━━━━━━━━━━━━━━━━━━━━\u001b[0m \u001b[32m194.1/194.1 kB\u001b[0m \u001b[31m14.2 MB/s\u001b[0m eta \u001b[36m0:00:00\u001b[0m\n",
            "\u001b[2K     \u001b[90m━━━━━━━━━━━━━━━━━━━━━━━━━━━━━━━━━━━━━━━━\u001b[0m \u001b[32m134.8/134.8 kB\u001b[0m \u001b[31m18.7 MB/s\u001b[0m eta \u001b[36m0:00:00\u001b[0m\n",
            "\u001b[2K     \u001b[90m━━━━━━━━━━━━━━━━━━━━━━━━━━━━━━━━━━━━━━━━\u001b[0m \u001b[32m1.6/1.6 MB\u001b[0m \u001b[31m22.1 MB/s\u001b[0m eta \u001b[36m0:00:00\u001b[0m\n",
            "\u001b[2K     \u001b[90m━━━━━━━━━━━━━━━━━━━━━━━━━━━━━━━━━━━━━━━━\u001b[0m \u001b[32m23.7/23.7 MB\u001b[0m \u001b[31m56.1 MB/s\u001b[0m eta \u001b[36m0:00:00\u001b[0m\n",
            "\u001b[2K     \u001b[90m━━━━━━━━━━━━━━━━━━━━━━━━━━━━━━━━━━━━━━━━\u001b[0m \u001b[32m823.6/823.6 kB\u001b[0m \u001b[31m67.5 MB/s\u001b[0m eta \u001b[36m0:00:00\u001b[0m\n",
            "\u001b[2K     \u001b[90m━━━━━━━━━━━━━━━━━━━━━━━━━━━━━━━━━━━━━━━━\u001b[0m \u001b[32m14.1/14.1 MB\u001b[0m \u001b[31m91.8 MB/s\u001b[0m eta \u001b[36m0:00:00\u001b[0m\n",
            "\u001b[2K     \u001b[90m━━━━━━━━━━━━━━━━━━━━━━━━━━━━━━━━━━━━━━━━\u001b[0m \u001b[32m731.7/731.7 MB\u001b[0m \u001b[31m2.0 MB/s\u001b[0m eta \u001b[36m0:00:00\u001b[0m\n",
            "\u001b[2K     \u001b[90m━━━━━━━━━━━━━━━━━━━━━━━━━━━━━━━━━━━━━━━━\u001b[0m \u001b[32m410.6/410.6 MB\u001b[0m \u001b[31m2.6 MB/s\u001b[0m eta \u001b[36m0:00:00\u001b[0m\n",
            "\u001b[2K     \u001b[90m━━━━━━━━━━━━━━━━━━━━━━━━━━━━━━━━━━━━━━━━\u001b[0m \u001b[32m121.6/121.6 MB\u001b[0m \u001b[31m8.3 MB/s\u001b[0m eta \u001b[36m0:00:00\u001b[0m\n",
            "\u001b[2K     \u001b[90m━━━━━━━━━━━━━━━━━━━━━━━━━━━━━━━━━━━━━━━━\u001b[0m \u001b[32m56.5/56.5 MB\u001b[0m \u001b[31m11.6 MB/s\u001b[0m eta \u001b[36m0:00:00\u001b[0m\n",
            "\u001b[2K     \u001b[90m━━━━━━━━━━━━━━━━━━━━━━━━━━━━━━━━━━━━━━━━\u001b[0m \u001b[32m124.2/124.2 MB\u001b[0m \u001b[31m7.9 MB/s\u001b[0m eta \u001b[36m0:00:00\u001b[0m\n",
            "\u001b[2K     \u001b[90m━━━━━━━━━━━━━━━━━━━━━━━━━━━━━━━━━━━━━━━━\u001b[0m \u001b[32m196.0/196.0 MB\u001b[0m \u001b[31m6.6 MB/s\u001b[0m eta \u001b[36m0:00:00\u001b[0m\n",
            "\u001b[2K     \u001b[90m━━━━━━━━━━━━━━━━━━━━━━━━━━━━━━━━━━━━━━━━\u001b[0m \u001b[32m166.0/166.0 MB\u001b[0m \u001b[31m5.6 MB/s\u001b[0m eta \u001b[36m0:00:00\u001b[0m\n",
            "\u001b[2K     \u001b[90m━━━━━━━━━━━━━━━━━━━━━━━━━━━━━━━━━━━━━━━━\u001b[0m \u001b[32m99.1/99.1 kB\u001b[0m \u001b[31m15.1 MB/s\u001b[0m eta \u001b[36m0:00:00\u001b[0m\n",
            "\u001b[2K     \u001b[90m━━━━━━━━━━━━━━━━━━━━━━━━━━━━━━━━━━━━━━━━\u001b[0m \u001b[32m21.1/21.1 MB\u001b[0m \u001b[31m82.3 MB/s\u001b[0m eta \u001b[36m0:00:00\u001b[0m\n",
            "\u001b[?25h"
          ]
        }
      ],
      "source": [
        "# modified from the original to solve ImportError: cannot import name 'ddg_images' from 'duckduckgo_search' (/usr/local/lib/python3.10/dist-packages/duckduckgo_search/__init__.py)\n",
        "# solution from:  https://forums.fast.ai/t/lesson-1-official-topic/95287/608?u=jloodts\n",
        "!pip install -Uqq fastbook"
      ]
    },
    {
      "cell_type": "code",
      "source": [
        "from PIL import Image\n",
        "import numpy as np\n",
        "import os"
      ],
      "metadata": {
        "id": "VcVlzMxylVFY"
      },
      "execution_count": 2,
      "outputs": []
    },
    {
      "cell_type": "code",
      "source": [
        "def saveBoards(data):\n",
        "  # (number of boards, 126), where 126 = 6x7x3\n",
        "  nrBoards = data.shape[0]\n",
        "  folder = \"/content/drive/MyDrive/4OnARow/input\"\n",
        "\n",
        "  from datetime import datetime\n",
        "  now = datetime.now()\n",
        "  time = now.strftime(\"%H%M%S.%f\")[:-3]\n",
        "  # save all images but the last one, these are all non victory\n",
        "  for i in range(nrBoards-1):\n",
        "    rgb_array = data[i].reshape((6, 7, 3))\n",
        "    rgb_array = np.array(rgb_array, dtype=np.uint8)\n",
        "    new_image = Image.fromarray(rgb_array)\n",
        "    filename = f'{time}_{i:03d}.png'\n",
        "    subfolder = folder + \"/img\"\n",
        "    complete_path = os.path.join(subfolder, filename)\n",
        "    new_image.save(complete_path)\n",
        "\n",
        "  # save the last image, this is a victory\n",
        "  i = nrBoards-1;\n",
        "  rgb_array = data[i].reshape((6, 7, 3))\n",
        "  rgb_array = np.array(rgb_array, dtype=np.uint8)\n",
        "  new_image = Image.fromarray(rgb_array)\n",
        "  filename = f'victory_{time}_{i:03d}.png'\n",
        "  subfolder = folder + \"/victoryimg\"\n",
        "  complete_path = os.path.join(subfolder, filename)\n",
        "  new_image.save(complete_path)\n"
      ],
      "metadata": {
        "id": "Y_IO0iZjpx8F"
      },
      "execution_count": 3,
      "outputs": []
    },
    {
      "cell_type": "code",
      "source": [
        "def append_to_text():\n",
        "  global text_to_save, my_game_cell\n",
        "  for j in range(5, -1, -1):  # 6 rows because in the PNG, row 0 is at the top\n",
        "    for i in range(7):  # 7 columns\n",
        "      if my_game_cell[i][j] == 0:\n",
        "        text_to_save += \"0 0 0 \"\n",
        "      elif my_game_cell[i][j] == 1:  # human, red\n",
        "        text_to_save += \"255 0 0 \"\n",
        "      elif my_game_cell[i][j] == 2:  # computer, yellow\n",
        "        text_to_save += \"255 255 0 \"\n",
        "      else:\n",
        "        raise ValueError(\"Wrong value in append_to_text()\")\n",
        "  text_to_save += \"\\n\""
      ],
      "metadata": {
        "id": "NN1Bl2JQjUct"
      },
      "execution_count": 34,
      "outputs": []
    },
    {
      "cell_type": "code",
      "source": [
        "def save_to_file(text_to_save, filename):\n",
        "  # Assuming my_game_cell and text_to_save are defined elsewhere\n",
        "  blob = bytes(text_to_save, 'utf-8')\n",
        "  with open(filename, 'wb') as file:\n",
        "    file.write(blob)"
      ],
      "metadata": {
        "id": "0tAMrpIZkML6"
      },
      "execution_count": 26,
      "outputs": []
    },
    {
      "cell_type": "code",
      "source": [
        "def initialize_game():\n",
        "  # Initialize myGameCell to 0 and draw cells\n",
        "  global my_game_cell\n",
        "  for i in range(7):  # 7 columns\n",
        "    for j in range(6):  # 6 rows\n",
        "      my_game_cell[i][j] = 0  # all cells are empty"
      ],
      "metadata": {
        "id": "8TeqiWA4jVjA"
      },
      "execution_count": 6,
      "outputs": []
    },
    {
      "cell_type": "code",
      "source": [
        "def get_free_row(column_nr, matrix):\n",
        "  # Returns -1 when there is no free row, otherwise the return value is the first free row that was found for that column\n",
        "  for j in range(6):  # 6 rows\n",
        "    if matrix[column_nr][j] == 0:\n",
        "      return j\n",
        "  return -1"
      ],
      "metadata": {
        "id": "qevL6lUJktbv"
      },
      "execution_count": 7,
      "outputs": []
    },
    {
      "cell_type": "code",
      "source": [
        "import random\n",
        "\n",
        "def find_next_move():\n",
        "  global my_game_cell, myGamePlayer\n",
        "  # Copy the matrix\n",
        "  free_row_in_column = []\n",
        "  matrix = []\n",
        "  for i in range(7):  # 7 columns\n",
        "    matrix.append([my_game_cell[i][j] for j in range(6)])\n",
        "\n",
        "  for i in range(7):  # 7 columns\n",
        "    free_row_in_column.append(get_free_row(i, matrix))\n",
        "\n",
        "  # Make a random move with preference for center\n",
        "  random_choice = random.randint(0, 4)\n",
        "  if random_choice == 0:\n",
        "    index = [3, 2, 4, 5, 1, 6, 0]\n",
        "  elif random_choice == 1:\n",
        "    index = [4, 2, 3, 5, 6, 1, 0]\n",
        "  elif random_choice == 2:\n",
        "    index = [2, 3, 4, 5, 0, 6, 1]\n",
        "  elif random_choice == 3:\n",
        "    index = [3, 5, 4, 1, 2, 6, 0]\n",
        "  elif random_choice == 4:\n",
        "    index = [4, 3, 2, 0, 1, 6, 5]\n",
        "  else:\n",
        "    index = [3, 2, 4, 5, 1, 6, 0]\n",
        "\n",
        "  for i in range(7):  # 7 columns\n",
        "    next_col = index[i]\n",
        "    next_row = get_free_row(next_col, my_game_cell)\n",
        "    if next_row != -1:  # Column nextMove isn't full yet\n",
        "      my_game_cell[next_col][next_row] = myGamePlayer\n",
        "      return next_col\n",
        "\n",
        "  print(\"The computer couldn't find a valid move. Congratulations, it's a tie game.\")"
      ],
      "metadata": {
        "id": "6oJmgiMZmMaY"
      },
      "execution_count": 8,
      "outputs": []
    },
    {
      "cell_type": "code",
      "source": [
        "def check_four_on_a_row(matrix):\n",
        "  result = []\n",
        "\n",
        "  # Check horizontal\n",
        "  for j in range(6):  # 6 rows\n",
        "    for i in range(7 - 3):  # 7 columns\n",
        "      max_val = max(matrix[i][j], matrix[i + 1][j], matrix[i + 2][j], matrix[i + 3][j])\n",
        "      min_val = min(matrix[i][j], matrix[i + 1][j], matrix[i + 2][j], matrix[i + 3][j])\n",
        "      if max_val == min_val and max_val != 0:  # We have a winner\n",
        "        result.append(i)\n",
        "\n",
        "  # Check vertical\n",
        "  for i in range(7):  # 7 columns\n",
        "    for j in range(6 - 3):  # 6 rows\n",
        "      max_val = max(matrix[i][j], matrix[i][j + 1], matrix[i][j + 2], matrix[i][j + 3])\n",
        "      min_val = min(matrix[i][j], matrix[i][j + 1], matrix[i][j + 2], matrix[i][j + 3])\n",
        "      if max_val == min_val and max_val != 0:  # We have a winner\n",
        "        result.append(i)\n",
        "\n",
        "  # Check diagonal right-up\n",
        "  for i in range(7 - 3):  # 7 columns\n",
        "    for j in range(6 - 3):  # 6 rows\n",
        "      max_val = max(matrix[i][j], matrix[i + 1][j + 1], matrix[i + 2][j + 2], matrix[i + 3][j + 3])\n",
        "      min_val = min(matrix[i][j], matrix[i + 1][j + 1], matrix[i + 2][j + 2], matrix[i + 3][j + 3])\n",
        "      if max_val == min_val and max_val != 0:  # We have a winner\n",
        "          result.append(i)\n",
        "\n",
        "  # Check diagonal left-up\n",
        "  for i in range(3, 7):  # 7 columns\n",
        "    for j in range(6 - 3):  # 6 rows\n",
        "      max_val = max(matrix[i][j], matrix[i - 1][j + 1], matrix[i - 2][j + 2], matrix[i - 3][j + 3])\n",
        "      min_val = min(matrix[i][j], matrix[i - 1][j + 1], matrix[i - 2][j + 2], matrix[i - 3][j + 3])\n",
        "      if max_val == min_val and max_val != 0:  # We have a winner\n",
        "        result.append(i)\n",
        "\n",
        "  return result\n"
      ],
      "metadata": {
        "id": "Ub02meP6n-MK"
      },
      "execution_count": 9,
      "outputs": []
    },
    {
      "cell_type": "code",
      "source": [
        "# 1st step :: let the computer play nrGamesToPlay games against itself and for each game save the recorded board states in a txt file\n",
        "my_game_cell = [[0] * 6 for _ in range(7)]\n",
        "myGamePlayer = 1\n",
        "nrGamesToPlay = 100\n",
        "\n",
        "filename = '/content/drive/MyDrive/4OnARow/bronbestanden/pixels.txt'\n",
        "for m in range(1, nrGamesToPlay):\n",
        "  filename = f'/content/drive/MyDrive/4OnARow/bronbestanden/pixels({m}).txt'\n",
        "  text_to_save = \"\"\n",
        "  initialize_game()\n",
        "  for n in range(7*6):\n",
        "    find_next_move()\n",
        "    append_to_text()\n",
        "    # switch player after move\n",
        "    if myGamePlayer == 1:\n",
        "      myGamePlayer = 2\n",
        "    else:\n",
        "      myGamePlayer = 1\n",
        "    winning_move = check_four_on_a_row(my_game_cell)\n",
        "    if len(winning_move) >= 1:\n",
        "      save_to_file(text_to_save, filename)\n",
        " #     print(\"Save victoryimg\")\n",
        "      break\n",
        " #   else:\n",
        "      #print(\"Save img\")\n"
      ],
      "metadata": {
        "id": "mrOo7CAJn1a3"
      },
      "execution_count": 35,
      "outputs": []
    },
    {
      "cell_type": "code",
      "source": [
        "# 2nd step :: use this code to read the text files and save the corresponding png's\n",
        "for n in range(1, nrGamesToPlay):\n",
        "  # Specify the filename (change to your actual file path)\n",
        "  # each line represents a board situation (7 columns, 6 rows, (R,G,B)-value of the player's colour)\n",
        "  # 1 = human = red (255,0,0)\n",
        "  # 2 = computer = yellow (255,255,0)\n",
        "  # row 0 in png = row 5 in board\n",
        "  filename = f'/content/drive/MyDrive/4OnARow/bronbestanden/pixels({n}).txt'\n",
        "\n",
        "  # Load data from the text file (assuming space-separated values)\n",
        "  # all values are floats\n",
        "  data = np.loadtxt(filename)\n",
        "  saveBoards(data)"
      ],
      "metadata": {
        "id": "mjdWm0O1nBMH"
      },
      "execution_count": 36,
      "outputs": []
    },
    {
      "cell_type": "markdown",
      "metadata": {
        "id": "P9EJLe_vD31_"
      },
      "source": [
        "...and then download a URL and take a look at it:"
      ]
    },
    {
      "cell_type": "code",
      "execution_count": 37,
      "metadata": {
        "colab": {
          "base_uri": "https://localhost:8080/",
          "height": 34
        },
        "id": "NTrWQ7AyD31_",
        "outputId": "322b7922-e067-4aba-8a38-d5ee077963bd"
      },
      "outputs": [
        {
          "output_type": "execute_result",
          "data": {
            "text/plain": [
              "<PIL.Image.Image image mode=RGB size=7x6>"
            ],
            "image/png": "[encoded data removed]"
          },
          "metadata": {},
          "execution_count": 37
        }
      ],
      "source": [
        "dest = '/content/drive/MyDrive/4OnARow/input/victoryimg/victory_100450.902_014.png'\n",
        "\n",
        "from fastai.vision.all import *\n",
        "im = Image.open(dest)\n",
        "im.to_thumb(256,256)"
      ]
    },
    {
      "cell_type": "markdown",
      "metadata": {
        "id": "86Coih3yD32A"
      },
      "source": [
        "Now let's do the same with \"wild animal photos\":"
      ]
    },
    {
      "cell_type": "code",
      "execution_count": 39,
      "metadata": {
        "colab": {
          "base_uri": "https://localhost:8080/",
          "height": 34
        },
        "id": "li3aBEfwD32A",
        "outputId": "16aa7222-07af-4e9e-9085-d8aaa509bade"
      },
      "outputs": [
        {
          "output_type": "execute_result",
          "data": {
            "text/plain": [
              "<PIL.Image.Image image mode=RGB size=7x6>"
            ],
            "image/png": "[encoded data removed]"
          },
          "metadata": {},
          "execution_count": 39
        }
      ],
      "source": [
        "dest = '/content/drive/MyDrive/4OnARow/input/img/100450.902_002.png'\n",
        "Image.open(dest).to_thumb(256,256)"
      ]
    },
    {
      "cell_type": "markdown",
      "metadata": {
        "id": "V1Sg5KRSD32A"
      },
      "source": [
        "Our searches seem to be giving reasonable results, so let's grab 200 examples of each, and save each group of photos to a different folder:"
      ]
    },
    {
      "cell_type": "markdown",
      "source": [
        "In order to supplement the dataset we manually add some good search prompts, review the results in Google Drive and add the best ones to the appropriate dataset folder."
      ],
      "metadata": {
        "id": "YlF9aLHdWF2E"
      }
    },
    {
      "cell_type": "markdown",
      "source": [
        "after the manual step above we need to resize all new images"
      ],
      "metadata": {
        "id": "53Wk--uCWYpH"
      }
    },
    {
      "cell_type": "markdown",
      "metadata": {
        "id": "ypfxHiczD32B"
      },
      "source": [
        "## Step 2: Train our model"
      ]
    },
    {
      "cell_type": "markdown",
      "metadata": {
        "id": "t2xqdYFDD32B"
      },
      "source": [
        "Some photos might not download correctly which could cause our model training to fail, so we'll remove them:"
      ]
    },
    {
      "cell_type": "code",
      "source": [
        "path = Path('/content/drive/MyDrive/4OnARow/input')"
      ],
      "metadata": {
        "id": "H6Ni-QZBOuYz"
      },
      "execution_count": 40,
      "outputs": []
    },
    {
      "cell_type": "code",
      "execution_count": 41,
      "metadata": {
        "colab": {
          "base_uri": "https://localhost:8080/"
        },
        "id": "aN7qFW09D32B",
        "outputId": "14fd7849-a7f3-437a-a225-cbd45aab1463"
      },
      "outputs": [
        {
          "output_type": "stream",
          "name": "stderr",
          "text": [
            "/usr/lib/python3.10/multiprocessing/popen_fork.py:66: RuntimeWarning: os.fork() was called. os.fork() is incompatible with multithreaded code, and JAX is multithreaded, so this will likely lead to a deadlock.\n",
            "  self.pid = os.fork()\n"
          ]
        },
        {
          "output_type": "execute_result",
          "data": {
            "text/plain": [
              "0"
            ]
          },
          "metadata": {},
          "execution_count": 41
        }
      ],
      "source": [
        "failed = verify_images(get_image_files(path))\n",
        "failed.map(Path.unlink)\n",
        "len(failed)"
      ]
    },
    {
      "cell_type": "markdown",
      "metadata": {
        "id": "01-2gBuGD32B"
      },
      "source": [
        "To train a model, we'll need `DataLoaders`, which is an object that contains a *training set* (the images used to create a model) and a *validation set* (the images used to check the accuracy of a model -- not used during training). In `fastai` we can create that easily using a `DataBlock`, and view sample images from it:"
      ]
    },
    {
      "cell_type": "code",
      "execution_count": null,
      "metadata": {
        "colab": {
          "base_uri": "https://localhost:8080/",
          "height": 487
        },
        "id": "pHWjAM1PD32C",
        "outputId": "14f2c89c-6a63-4970-e6e6-fd7f150f3d6a"
      },
      "outputs": [
        {
          "output_type": "display_data",
          "data": {
            "text/plain": [
              "<Figure size 900x600 with 6 Axes>"
            ],
            "image/png": "[encoded data removed]"
          },
          "metadata": {}
        }
      ],
      "source": [
        "dls = DataBlock(\n",
        "    blocks=(ImageBlock, CategoryBlock),\n",
        "    get_items=get_image_files,\n",
        "    splitter=RandomSplitter(valid_pct=0.2, seed=42),\n",
        "    get_y=parent_label,\n",
        "    #item_tfms=[Resize(7, method='squish')]\n",
        ").dataloaders(path)\n",
        "\n",
        "dls.show_batch(max_n=6)"
      ]
    },
    {
      "cell_type": "markdown",
      "metadata": {
        "id": "hCk7LSt1D32C"
      },
      "source": [
        "Here what each of the `DataBlock` parameters means:\n",
        "\n",
        "    blocks=(ImageBlock, CategoryBlock),\n",
        "\n",
        "The inputs to our model are images, and the outputs are categories (in this case, \"bird\" or \"forest\").\n",
        "\n",
        "    get_items=get_image_files,\n",
        "\n",
        "To find all the inputs to our model, run the `get_image_files` function (which returns a list of all image files in a path).\n",
        "\n",
        "    splitter=RandomSplitter(valid_pct=0.2, seed=42),\n",
        "\n",
        "Split the data into training and validation sets randomly, using 20% of the data for the validation set.\n",
        "\n",
        "    get_y=parent_label,\n",
        "\n",
        "The labels (`y` values) is the name of the `parent` of each file (i.e. the name of the folder they're in, which will be *bird* or *forest*).\n",
        "\n",
        "    item_tfms=[Resize(192, method='squish')]\n",
        "\n",
        "Before training, resize each image to 192x192 pixels by \"squishing\" it (as opposed to cropping it)."
      ]
    },
    {
      "cell_type": "markdown",
      "metadata": {
        "id": "qpCUvAyyD32C"
      },
      "source": [
        "Now we're ready to train our model. The fastest widely used computer vision model is `resnet18`. You can train this in a few minutes, even on a CPU! (On a GPU, it generally takes under 10 seconds...)\n",
        "\n",
        "`fastai` comes with a helpful `fine_tune()` method which automatically uses best practices for fine tuning a pre-trained model, so we'll use that."
      ]
    },
    {
      "cell_type": "code",
      "source": [
        "learn = vision_learner(dls, resnet18, metrics=error_rate)\n"
      ],
      "metadata": {
        "id": "neZnDHzuXTmy",
        "outputId": "89df6fd2-77f2-489c-fd02-09974ecb626c",
        "colab": {
          "base_uri": "https://localhost:8080/"
        }
      },
      "execution_count": null,
      "outputs": [
        {
          "output_type": "stream",
          "name": "stderr",
          "text": [
            "Downloading: \"https://download.pytorch.org/models/resnet18-f37072fd.pth\" to /root/.cache/torch/hub/checkpoints/resnet18-f37072fd.pth\n",
            "100%|██████████| 44.7M/44.7M [00:00<00:00, 168MB/s]\n"
          ]
        }
      ]
    },
    {
      "cell_type": "code",
      "execution_count": null,
      "metadata": {
        "colab": {
          "base_uri": "https://localhost:8080/",
          "height": 207
        },
        "id": "yFtGKovoD32C",
        "outputId": "190869a2-07c8-49b3-b4f9-f97036ced5c0"
      },
      "outputs": [
        {
          "output_type": "display_data",
          "data": {
            "text/plain": [
              "<IPython.core.display.HTML object>"
            ],
            "text/html": [
              "\n",
              "<style>\n",
              "    /* Turns off some styling */\n",
              "    progress {\n",
              "        /* gets rid of default border in Firefox and Opera. */\n",
              "        border: none;\n",
              "        /* Needs to be in here for Safari polyfill so background images work as expected. */\n",
              "        background-size: auto;\n",
              "    }\n",
              "    progress:not([value]), progress:not([value])::-webkit-progress-bar {\n",
              "        background: repeating-linear-gradient(45deg, #7e7e7e, #7e7e7e 10px, #5c5c5c 10px, #5c5c5c 20px);\n",
              "    }\n",
              "    .progress-bar-interrupted, .progress-bar-interrupted::-webkit-progress-bar {\n",
              "        background: #F44336;\n",
              "    }\n",
              "</style>\n"
            ]
          },
          "metadata": {}
        },
        {
          "output_type": "display_data",
          "data": {
            "text/plain": [
              "<IPython.core.display.HTML object>"
            ],
            "text/html": [
              "<table border=\"1\" class=\"dataframe\">\n",
              "  <thead>\n",
              "    <tr style=\"text-align: left;\">\n",
              "      <th>epoch</th>\n",
              "      <th>train_loss</th>\n",
              "      <th>valid_loss</th>\n",
              "      <th>error_rate</th>\n",
              "      <th>time</th>\n",
              "    </tr>\n",
              "  </thead>\n",
              "  <tbody>\n",
              "    <tr>\n",
              "      <td>0</td>\n",
              "      <td>1.393371</td>\n",
              "      <td>0.752054</td>\n",
              "      <td>0.770833</td>\n",
              "      <td>00:02</td>\n",
              "    </tr>\n",
              "  </tbody>\n",
              "</table>"
            ]
          },
          "metadata": {}
        },
        {
          "output_type": "display_data",
          "data": {
            "text/plain": [
              "<IPython.core.display.HTML object>"
            ],
            "text/html": [
              "\n",
              "<style>\n",
              "    /* Turns off some styling */\n",
              "    progress {\n",
              "        /* gets rid of default border in Firefox and Opera. */\n",
              "        border: none;\n",
              "        /* Needs to be in here for Safari polyfill so background images work as expected. */\n",
              "        background-size: auto;\n",
              "    }\n",
              "    progress:not([value]), progress:not([value])::-webkit-progress-bar {\n",
              "        background: repeating-linear-gradient(45deg, #7e7e7e, #7e7e7e 10px, #5c5c5c 10px, #5c5c5c 20px);\n",
              "    }\n",
              "    .progress-bar-interrupted, .progress-bar-interrupted::-webkit-progress-bar {\n",
              "        background: #F44336;\n",
              "    }\n",
              "</style>\n"
            ]
          },
          "metadata": {}
        },
        {
          "output_type": "display_data",
          "data": {
            "text/plain": [
              "<IPython.core.display.HTML object>"
            ],
            "text/html": [
              "<table border=\"1\" class=\"dataframe\">\n",
              "  <thead>\n",
              "    <tr style=\"text-align: left;\">\n",
              "      <th>epoch</th>\n",
              "      <th>train_loss</th>\n",
              "      <th>valid_loss</th>\n",
              "      <th>error_rate</th>\n",
              "      <th>time</th>\n",
              "    </tr>\n",
              "  </thead>\n",
              "  <tbody>\n",
              "    <tr>\n",
              "      <td>0</td>\n",
              "      <td>1.109487</td>\n",
              "      <td>0.598796</td>\n",
              "      <td>0.125000</td>\n",
              "      <td>00:01</td>\n",
              "    </tr>\n",
              "    <tr>\n",
              "      <td>1</td>\n",
              "      <td>1.151968</td>\n",
              "      <td>0.662951</td>\n",
              "      <td>0.312500</td>\n",
              "      <td>00:01</td>\n",
              "    </tr>\n",
              "    <tr>\n",
              "      <td>2</td>\n",
              "      <td>1.103110</td>\n",
              "      <td>0.827970</td>\n",
              "      <td>0.812500</td>\n",
              "      <td>00:01</td>\n",
              "    </tr>\n",
              "  </tbody>\n",
              "</table>"
            ]
          },
          "metadata": {}
        }
      ],
      "source": [
        "learn.fine_tune(3)"
      ]
    },
    {
      "cell_type": "markdown",
      "metadata": {
        "id": "I4-WATm2D32C"
      },
      "source": [
        "Generally when I run this I see 100% accuracy on the validation set (although it might vary a bit from run to run).\n",
        "\n",
        "\"Fine-tuning\" a model means that we're starting with a model someone else has trained using some other dataset (called the *pretrained model*), and adjusting the weights a little bit so that the model learns to recognise your particular dataset. In this case, the pretrained model was trained to recognise photos in *imagenet*, and widely-used computer vision dataset with images covering 1000 categories) For details on fine-tuning and why it's important, check out the [free fast.ai course](https://course.fast.ai/)."
      ]
    },
    {
      "cell_type": "markdown",
      "source": [
        "We used the default learning rate before, but we might want to find the best one possible. For this, we can use the learning rate finder:"
      ],
      "metadata": {
        "id": "CECNEJQlCGdb"
      }
    },
    {
      "cell_type": "code",
      "source": [
        "learn.lr_find()\n"
      ],
      "metadata": {
        "colab": {
          "base_uri": "https://localhost:8080/",
          "height": 472
        },
        "id": "RIGpQNrNCHm9",
        "outputId": "210698fe-7b24-41b6-d454-9e2beeb47f89"
      },
      "execution_count": null,
      "outputs": [
        {
          "output_type": "display_data",
          "data": {
            "text/plain": [
              "<IPython.core.display.HTML object>"
            ],
            "text/html": [
              "\n",
              "<style>\n",
              "    /* Turns off some styling */\n",
              "    progress {\n",
              "        /* gets rid of default border in Firefox and Opera. */\n",
              "        border: none;\n",
              "        /* Needs to be in here for Safari polyfill so background images work as expected. */\n",
              "        background-size: auto;\n",
              "    }\n",
              "    progress:not([value]), progress:not([value])::-webkit-progress-bar {\n",
              "        background: repeating-linear-gradient(45deg, #7e7e7e, #7e7e7e 10px, #5c5c5c 10px, #5c5c5c 20px);\n",
              "    }\n",
              "    .progress-bar-interrupted, .progress-bar-interrupted::-webkit-progress-bar {\n",
              "        background: #F44336;\n",
              "    }\n",
              "</style>\n"
            ]
          },
          "metadata": {}
        },
        {
          "output_type": "display_data",
          "data": {
            "text/plain": [
              "<IPython.core.display.HTML object>"
            ],
            "text/html": []
          },
          "metadata": {}
        },
        {
          "output_type": "execute_result",
          "data": {
            "text/plain": [
              "SuggestedLRs(valley=0.0030199517495930195)"
            ]
          },
          "metadata": {},
          "execution_count": 10
        },
        {
          "output_type": "display_data",
          "data": {
            "text/plain": [
              "<Figure size 640x480 with 1 Axes>"
            ],
            "image/png": "[encoded data removed]"
          },
          "metadata": {}
        }
      ]
    },
    {
      "cell_type": "code",
      "source": [
        "learn.fine_tune(5, 6e-2)"
      ],
      "metadata": {
        "colab": {
          "base_uri": "https://localhost:8080/",
          "height": 363
        },
        "id": "zD2wsXYrCTNI",
        "outputId": "7e12e7e6-bc7c-482e-b32b-066c9d3b73a0"
      },
      "execution_count": null,
      "outputs": [
        {
          "output_type": "display_data",
          "data": {
            "text/plain": [
              "<IPython.core.display.HTML object>"
            ],
            "text/html": [
              "\n",
              "<style>\n",
              "    /* Turns off some styling */\n",
              "    progress {\n",
              "        /* gets rid of default border in Firefox and Opera. */\n",
              "        border: none;\n",
              "        /* Needs to be in here for Safari polyfill so background images work as expected. */\n",
              "        background-size: auto;\n",
              "    }\n",
              "    progress:not([value]), progress:not([value])::-webkit-progress-bar {\n",
              "        background: repeating-linear-gradient(45deg, #7e7e7e, #7e7e7e 10px, #5c5c5c 10px, #5c5c5c 20px);\n",
              "    }\n",
              "    .progress-bar-interrupted, .progress-bar-interrupted::-webkit-progress-bar {\n",
              "        background: #F44336;\n",
              "    }\n",
              "</style>\n"
            ]
          },
          "metadata": {}
        },
        {
          "output_type": "display_data",
          "data": {
            "text/plain": [
              "<IPython.core.display.HTML object>"
            ],
            "text/html": [
              "<table border=\"1\" class=\"dataframe\">\n",
              "  <thead>\n",
              "    <tr style=\"text-align: left;\">\n",
              "      <th>epoch</th>\n",
              "      <th>train_loss</th>\n",
              "      <th>valid_loss</th>\n",
              "      <th>error_rate</th>\n",
              "      <th>time</th>\n",
              "    </tr>\n",
              "  </thead>\n",
              "  <tbody>\n",
              "    <tr>\n",
              "      <td>0</td>\n",
              "      <td>1.397282</td>\n",
              "      <td>0.465551</td>\n",
              "      <td>0.020833</td>\n",
              "      <td>00:01</td>\n",
              "    </tr>\n",
              "  </tbody>\n",
              "</table>"
            ]
          },
          "metadata": {}
        },
        {
          "output_type": "stream",
          "name": "stderr",
          "text": [
            "/usr/lib/python3.10/multiprocessing/popen_fork.py:66: RuntimeWarning: os.fork() was called. os.fork() is incompatible with multithreaded code, and JAX is multithreaded, so this will likely lead to a deadlock.\n",
            "  self.pid = os.fork()\n",
            "/usr/lib/python3.10/multiprocessing/popen_fork.py:66: RuntimeWarning: os.fork() was called. os.fork() is incompatible with multithreaded code, and JAX is multithreaded, so this will likely lead to a deadlock.\n",
            "  self.pid = os.fork()\n"
          ]
        },
        {
          "output_type": "display_data",
          "data": {
            "text/plain": [
              "<IPython.core.display.HTML object>"
            ],
            "text/html": [
              "\n",
              "<style>\n",
              "    /* Turns off some styling */\n",
              "    progress {\n",
              "        /* gets rid of default border in Firefox and Opera. */\n",
              "        border: none;\n",
              "        /* Needs to be in here for Safari polyfill so background images work as expected. */\n",
              "        background-size: auto;\n",
              "    }\n",
              "    progress:not([value]), progress:not([value])::-webkit-progress-bar {\n",
              "        background: repeating-linear-gradient(45deg, #7e7e7e, #7e7e7e 10px, #5c5c5c 10px, #5c5c5c 20px);\n",
              "    }\n",
              "    .progress-bar-interrupted, .progress-bar-interrupted::-webkit-progress-bar {\n",
              "        background: #F44336;\n",
              "    }\n",
              "</style>\n"
            ]
          },
          "metadata": {}
        },
        {
          "output_type": "display_data",
          "data": {
            "text/plain": [
              "<IPython.core.display.HTML object>"
            ],
            "text/html": [
              "<table border=\"1\" class=\"dataframe\">\n",
              "  <thead>\n",
              "    <tr style=\"text-align: left;\">\n",
              "      <th>epoch</th>\n",
              "      <th>train_loss</th>\n",
              "      <th>valid_loss</th>\n",
              "      <th>error_rate</th>\n",
              "      <th>time</th>\n",
              "    </tr>\n",
              "  </thead>\n",
              "  <tbody>\n",
              "    <tr>\n",
              "      <td>0</td>\n",
              "      <td>2.444522</td>\n",
              "      <td>4.803551</td>\n",
              "      <td>0.979167</td>\n",
              "      <td>00:01</td>\n",
              "    </tr>\n",
              "    <tr>\n",
              "      <td>1</td>\n",
              "      <td>1.677132</td>\n",
              "      <td>0.135802</td>\n",
              "      <td>0.041667</td>\n",
              "      <td>00:01</td>\n",
              "    </tr>\n",
              "    <tr>\n",
              "      <td>2</td>\n",
              "      <td>1.247931</td>\n",
              "      <td>0.374235</td>\n",
              "      <td>0.062500</td>\n",
              "      <td>00:01</td>\n",
              "    </tr>\n",
              "    <tr>\n",
              "      <td>3</td>\n",
              "      <td>1.006881</td>\n",
              "      <td>0.382044</td>\n",
              "      <td>0.104167</td>\n",
              "      <td>00:01</td>\n",
              "    </tr>\n",
              "    <tr>\n",
              "      <td>4</td>\n",
              "      <td>0.853326</td>\n",
              "      <td>0.154967</td>\n",
              "      <td>0.041667</td>\n",
              "      <td>00:01</td>\n",
              "    </tr>\n",
              "  </tbody>\n",
              "</table>"
            ]
          },
          "metadata": {}
        }
      ]
    },
    {
      "cell_type": "markdown",
      "metadata": {
        "id": "y2q7DZVND32D"
      },
      "source": [
        "## Step 3: Use our model (and build your own!)"
      ]
    },
    {
      "cell_type": "markdown",
      "source": [
        "The predict method returns three things: the decoded prediction, the index of the predicted class and the tensor of probabilities of all classes in the order of their indexed label. This method accepts a filename, a PIL image or a tensor directly in this case."
      ],
      "metadata": {
        "id": "qu5XL46EAKsW"
      }
    },
    {
      "cell_type": "markdown",
      "metadata": {
        "id": "hNzUljuwD32D"
      },
      "source": [
        "Let's see what our model thinks about the images we downloaded at the start:"
      ]
    },
    {
      "cell_type": "code",
      "execution_count": null,
      "metadata": {
        "colab": {
          "base_uri": "https://localhost:8080/",
          "height": 54
        },
        "id": "poaWBGRyD32D",
        "outputId": "589e04bd-1f69-46fc-9c3b-f52b93521b70"
      },
      "outputs": [
        {
          "output_type": "display_data",
          "data": {
            "text/plain": [
              "<IPython.core.display.HTML object>"
            ],
            "text/html": [
              "\n",
              "<style>\n",
              "    /* Turns off some styling */\n",
              "    progress {\n",
              "        /* gets rid of default border in Firefox and Opera. */\n",
              "        border: none;\n",
              "        /* Needs to be in here for Safari polyfill so background images work as expected. */\n",
              "        background-size: auto;\n",
              "    }\n",
              "    progress:not([value]), progress:not([value])::-webkit-progress-bar {\n",
              "        background: repeating-linear-gradient(45deg, #7e7e7e, #7e7e7e 10px, #5c5c5c 10px, #5c5c5c 20px);\n",
              "    }\n",
              "    .progress-bar-interrupted, .progress-bar-interrupted::-webkit-progress-bar {\n",
              "        background: #F44336;\n",
              "    }\n",
              "</style>\n"
            ]
          },
          "metadata": {}
        },
        {
          "output_type": "display_data",
          "data": {
            "text/plain": [
              "<IPython.core.display.HTML object>"
            ],
            "text/html": []
          },
          "metadata": {}
        },
        {
          "output_type": "stream",
          "name": "stdout",
          "text": [
            "This is a: img.\n",
            "Probability it's a img: 0.9629\n"
          ]
        }
      ],
      "source": [
        "category,categoryIndex,probs = learn.predict(PILImage.create('/content/drive/MyDrive/4OnARow/test/161331.675_008.png'))\n",
        "print(f\"This is a: {category}.\")\n",
        "print(f\"Probability it's a img: {probs[0]:.4f}\")"
      ]
    },
    {
      "cell_type": "code",
      "source": [
        "learn.predict(PILImage.create('/content/drive/MyDrive/4OnARow/test/victory_161331.675_009.png'))"
      ],
      "metadata": {
        "colab": {
          "base_uri": "https://localhost:8080/",
          "height": 35
        },
        "id": "gGoHsLM9-d_V",
        "outputId": "7b537ee4-2d2c-4d59-bfe3-41a8a395e539"
      },
      "execution_count": null,
      "outputs": [
        {
          "output_type": "display_data",
          "data": {
            "text/plain": [
              "<IPython.core.display.HTML object>"
            ],
            "text/html": [
              "\n",
              "<style>\n",
              "    /* Turns off some styling */\n",
              "    progress {\n",
              "        /* gets rid of default border in Firefox and Opera. */\n",
              "        border: none;\n",
              "        /* Needs to be in here for Safari polyfill so background images work as expected. */\n",
              "        background-size: auto;\n",
              "    }\n",
              "    progress:not([value]), progress:not([value])::-webkit-progress-bar {\n",
              "        background: repeating-linear-gradient(45deg, #7e7e7e, #7e7e7e 10px, #5c5c5c 10px, #5c5c5c 20px);\n",
              "    }\n",
              "    .progress-bar-interrupted, .progress-bar-interrupted::-webkit-progress-bar {\n",
              "        background: #F44336;\n",
              "    }\n",
              "</style>\n"
            ]
          },
          "metadata": {}
        },
        {
          "output_type": "display_data",
          "data": {
            "text/plain": [
              "<IPython.core.display.HTML object>"
            ],
            "text/html": []
          },
          "metadata": {}
        },
        {
          "output_type": "execute_result",
          "data": {
            "text/plain": [
              "('img', tensor(0), tensor([0.9619, 0.0381]))"
            ]
          },
          "metadata": {},
          "execution_count": 13
        }
      ]
    },
    {
      "cell_type": "code",
      "source": [
        "learn.show_results()"
      ],
      "metadata": {
        "colab": {
          "base_uri": "https://localhost:8080/",
          "height": 745
        },
        "id": "g4yS3LUWAsRS",
        "outputId": "567d3910-89cd-4cb4-f800-6171f4a9521b"
      },
      "execution_count": null,
      "outputs": [
        {
          "output_type": "display_data",
          "data": {
            "text/plain": [
              "<IPython.core.display.HTML object>"
            ],
            "text/html": [
              "\n",
              "<style>\n",
              "    /* Turns off some styling */\n",
              "    progress {\n",
              "        /* gets rid of default border in Firefox and Opera. */\n",
              "        border: none;\n",
              "        /* Needs to be in here for Safari polyfill so background images work as expected. */\n",
              "        background-size: auto;\n",
              "    }\n",
              "    progress:not([value]), progress:not([value])::-webkit-progress-bar {\n",
              "        background: repeating-linear-gradient(45deg, #7e7e7e, #7e7e7e 10px, #5c5c5c 10px, #5c5c5c 20px);\n",
              "    }\n",
              "    .progress-bar-interrupted, .progress-bar-interrupted::-webkit-progress-bar {\n",
              "        background: #F44336;\n",
              "    }\n",
              "</style>\n"
            ]
          },
          "metadata": {}
        },
        {
          "output_type": "display_data",
          "data": {
            "text/plain": [
              "<IPython.core.display.HTML object>"
            ],
            "text/html": []
          },
          "metadata": {}
        },
        {
          "output_type": "display_data",
          "data": {
            "text/plain": [
              "<Figure size 900x900 with 9 Axes>"
            ],
            "image/png": "[encoded data removed]"
          },
          "metadata": {}
        }
      ]
    },
    {
      "cell_type": "markdown",
      "source": [
        "Another thing that is useful is an interpretation object, it can show us where the model made the worse predictions:"
      ],
      "metadata": {
        "id": "71S0c_5YBf56"
      }
    },
    {
      "cell_type": "code",
      "source": [
        "interp = Interpretation.from_learner(learn)\n",
        "interp.plot_top_losses(9, figsize=(15,10))"
      ],
      "metadata": {
        "colab": {
          "base_uri": "https://localhost:8080/",
          "height": 907
        },
        "id": "lcG7jbiOBZ0X",
        "outputId": "20a30c50-dc88-4754-95f5-650a9c9d156e"
      },
      "execution_count": null,
      "outputs": [
        {
          "output_type": "display_data",
          "data": {
            "text/plain": [
              "<IPython.core.display.HTML object>"
            ],
            "text/html": [
              "\n",
              "<style>\n",
              "    /* Turns off some styling */\n",
              "    progress {\n",
              "        /* gets rid of default border in Firefox and Opera. */\n",
              "        border: none;\n",
              "        /* Needs to be in here for Safari polyfill so background images work as expected. */\n",
              "        background-size: auto;\n",
              "    }\n",
              "    progress:not([value]), progress:not([value])::-webkit-progress-bar {\n",
              "        background: repeating-linear-gradient(45deg, #7e7e7e, #7e7e7e 10px, #5c5c5c 10px, #5c5c5c 20px);\n",
              "    }\n",
              "    .progress-bar-interrupted, .progress-bar-interrupted::-webkit-progress-bar {\n",
              "        background: #F44336;\n",
              "    }\n",
              "</style>\n"
            ]
          },
          "metadata": {}
        },
        {
          "output_type": "display_data",
          "data": {
            "text/plain": [
              "<IPython.core.display.HTML object>"
            ],
            "text/html": []
          },
          "metadata": {}
        },
        {
          "output_type": "display_data",
          "data": {
            "text/plain": [
              "<IPython.core.display.HTML object>"
            ],
            "text/html": [
              "\n",
              "<style>\n",
              "    /* Turns off some styling */\n",
              "    progress {\n",
              "        /* gets rid of default border in Firefox and Opera. */\n",
              "        border: none;\n",
              "        /* Needs to be in here for Safari polyfill so background images work as expected. */\n",
              "        background-size: auto;\n",
              "    }\n",
              "    progress:not([value]), progress:not([value])::-webkit-progress-bar {\n",
              "        background: repeating-linear-gradient(45deg, #7e7e7e, #7e7e7e 10px, #5c5c5c 10px, #5c5c5c 20px);\n",
              "    }\n",
              "    .progress-bar-interrupted, .progress-bar-interrupted::-webkit-progress-bar {\n",
              "        background: #F44336;\n",
              "    }\n",
              "</style>\n"
            ]
          },
          "metadata": {}
        },
        {
          "output_type": "display_data",
          "data": {
            "text/plain": [
              "<IPython.core.display.HTML object>"
            ],
            "text/html": []
          },
          "metadata": {}
        },
        {
          "output_type": "display_data",
          "data": {
            "text/plain": [
              "<Figure size 1500x1000 with 9 Axes>"
            ],
            "image/png": "[encoded data removed]"
          },
          "metadata": {}
        }
      ]
    }
  ],
  "metadata": {
    "kernelspec": {
      "display_name": "Python 3",
      "name": "python3"
    },
    "colab": {
      "provenance": [],
      "history_visible": true,
      "include_colab_link": true
    }
  },
  "nbformat": 4,
  "nbformat_minor": 0
}